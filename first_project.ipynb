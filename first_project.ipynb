{
 "cells": [
  {
   "cell_type": "code",
   "execution_count": null,
   "id": "190c3260-7643-478e-b2aa-586300ca1f87",
   "metadata": {},
   "outputs": [],
   "source": []
  },
  {
   "cell_type": "code",
   "execution_count": 1,
   "id": "204a884d-817c-4cd7-a264-cd6194369b3c",
   "metadata": {},
   "outputs": [
    {
     "name": "stdin",
     "output_type": "stream",
     "text": [
      "Enter a message to encrypt:  Hello\n",
      "Enter a shift value:  5\n"
     ]
    },
    {
     "name": "stdout",
     "output_type": "stream",
     "text": [
      "Encrypted message: Mjqqt\n",
      "Decrypted message: Hello\n"
     ]
    }
   ],
   "source": [
    "#python\n",
    "def caesar_encrypt(text, shift):\n",
    "    encrypted_text = \"\"\n",
    "    \n",
    "    for char in text:\n",
    "        if char.isalpha():\n",
    "            if char.islower():\n",
    "                encrypted_text += chr((ord(char) - ord('a') + shift) % 26 + ord('a'))\n",
    "            else:\n",
    "                encrypted_text += chr((ord(char) - ord('A') + shift) % 26 + ord('A'))\n",
    "        else:\n",
    "            encrypted_text += char\n",
    "    \n",
    "    return encrypted_text\n",
    "\n",
    "def caesar_decrypt(text, shift):\n",
    "    decrypted_text = \"\"\n",
    "    \n",
    "    for char in text:\n",
    "        if char.isalpha():\n",
    "            if char.islower():\n",
    "                decrypted_text += chr((ord(char) - ord('a') - shift) % 26 + ord('a'))\n",
    "            else:\n",
    "                decrypted_text += chr((ord(char) - ord('A') - shift) % 26 + ord('A'))\n",
    "        else:\n",
    "            decrypted_text += char\n",
    "    \n",
    "    return decrypted_text\n",
    "\n",
    "user_input = input(\"Enter a message to encrypt: \")\n",
    "shift = int(input(\"Enter a shift value: \"))\n",
    "\n",
    "encrypted_message = caesar_encrypt(user_input, shift)\n",
    "print(\"Encrypted message:\", encrypted_message)\n",
    "\n",
    "decrypted_message = caesar_decrypt(encrypted_message\n",
    "                                   , shift)\n",
    "print(\"Decrypted message:\", decrypted_message)"
   ]
  },
  {
   "cell_type": "code",
   "execution_count": null,
   "id": "95f6c336-b30e-4038-8171-0b65b3a8fdea",
   "metadata": {},
   "outputs": [],
   "source": []
  },
  {
   "cell_type": "code",
   "execution_count": null,
   "id": "f36b0847-322a-43df-9c7a-b40a41f64080",
   "metadata": {},
   "outputs": [],
   "source": []
  }
 ],
 "metadata": {
  "kernelspec": {
   "display_name": "Python 3 (ipykernel)",
   "language": "python",
   "name": "python3"
  },
  "language_info": {
   "codemirror_mode": {
    "name": "ipython",
    "version": 3
   },
   "file_extension": ".py",
   "mimetype": "text/x-python",
   "name": "python",
   "nbconvert_exporter": "python",
   "pygments_lexer": "ipython3",
   "version": "3.11.9"
  }
 },
 "nbformat": 4,
 "nbformat_minor": 5
}
